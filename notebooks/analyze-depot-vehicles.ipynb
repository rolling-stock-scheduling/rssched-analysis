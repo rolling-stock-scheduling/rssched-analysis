{
 "cells": [
  {
   "cell_type": "markdown",
   "metadata": {},
   "source": [
    "# Depot Vehicle Analysis\n",
    "\n",
    "This notebooks illustrates the usage of the **rssched-analysis** package to read rolling stock scheduling responses from the solver.\n",
    "\n",
    "Run `poetry install` first, and set the ipykernel from the workspace `.venv`."
   ]
  },
  {
   "cell_type": "code",
   "execution_count": null,
   "metadata": {},
   "outputs": [],
   "source": [
    "from rssched.io.reader import import_response\n",
    "\n",
    "import pandas as pd\n",
    "\n",
    "SOLVER_RESPONSE_FILE = \"../rssched/data/small_test_response.json\""
   ]
  },
  {
   "cell_type": "code",
   "execution_count": null,
   "metadata": {},
   "outputs": [],
   "source": [
    "response = import_response(SOLVER_RESPONSE_FILE)"
   ]
  },
  {
   "cell_type": "markdown",
   "metadata": {},
   "source": [
    "### Vehicles per depot"
   ]
  },
  {
   "cell_type": "code",
   "execution_count": null,
   "metadata": {},
   "outputs": [],
   "source": [
    "data = []\n",
    "\n",
    "for depot_load in response.schedule.depot_loads:\n",
    "    depot = depot_load.depot\n",
    "    for load in depot_load.load:\n",
    "        vehicle_type = load.vehicle_type\n",
    "        spawn_count = load.spawn_count\n",
    "        data.append({\"location\": depot, \"type\": vehicle_type, \"count\": spawn_count})\n",
    "\n",
    "depots = pd.DataFrame(data)\n",
    "depots.head()"
   ]
  },
  {
   "cell_type": "markdown",
   "metadata": {},
   "source": [
    "### Total vehicle demand"
   ]
  },
  {
   "cell_type": "code",
   "execution_count": null,
   "metadata": {},
   "outputs": [],
   "source": [
    "vehicles = depots.groupby(\"type\")[\"count\"].sum().reset_index()\n",
    "vehicles.head()"
   ]
  }
 ],
 "metadata": {
  "kernelspec": {
   "display_name": ".venv",
   "language": "python",
   "name": "python3"
  },
  "language_info": {
   "codemirror_mode": {
    "name": "ipython",
    "version": 3
   },
   "file_extension": ".py",
   "mimetype": "text/x-python",
   "name": "python",
   "nbconvert_exporter": "python",
   "pygments_lexer": "ipython3",
   "version": "3.11.0"
  }
 },
 "nbformat": 4,
 "nbformat_minor": 2
}
